{
 "cells": [
  {
   "cell_type": "code",
   "execution_count": 1,
   "metadata": {
    "collapsed": false
   },
   "outputs": [
    {
     "name": "stdout",
     "output_type": "stream",
     "text": [
      "Populating the interactive namespace from numpy and matplotlib\n"
     ]
    }
   ],
   "source": [
    "%pylab inline\n",
    "%load_ext autoreload\n",
    "%autoreload 2\n",
    "\n",
    "# Imports\n",
    "import pandas as pd\n",
    "import numpy as np\n",
    "import matplotlib.pyplot as plt\n",
    "import matplotlib.image as mpimg\n",
    "\n",
    "import neural_util as ut\n",
    "\n",
    "from mnist import MNIST"
   ]
  },
  {
   "cell_type": "code",
   "execution_count": 46,
   "metadata": {
    "collapsed": true
   },
   "outputs": [],
   "source": [
    "# Get only twos and threes.\n",
    "def getTT(images, labels):\n",
    "    resX = []\n",
    "    resY = []\n",
    "    for x in range(0, len(labels)):\n",
    "        if labels[x] == 2:\n",
    "            resX.append(images[x])\n",
    "            resY.append(1)\n",
    "        elif labels[x] == 3:\n",
    "            resX.append(images[x])\n",
    "            resY.append(0)\n",
    "\n",
    "    return resX, resY"
   ]
  },
  {
   "cell_type": "code",
   "execution_count": 47,
   "metadata": {
    "collapsed": false
   },
   "outputs": [
    {
     "name": "stdout",
     "output_type": "stream",
     "text": [
      "(4414L, 784L)\n",
      "(4414L,)\n"
     ]
    }
   ],
   "source": [
    "# Import Data\n",
    "# Line might be OS dependent, change based on OS.\n",
    "mndata = MNIST('MNIST/')\n",
    "mndata.gz = True\n",
    "images, labels = mndata.load_training()\n",
    "\n",
    "# Only get subset of images\n",
    "s_images = images[0:20000] + images[-2000:]   \n",
    "s_labels = labels[0:20000] + labels[-2000:]   \n",
    "\n",
    "s_images, s_labels = getTT(s_images, s_labels)\n",
    "\n",
    "# Convert images into numpy arrays.\n",
    "s_images = np.array(s_images)\n",
    "s_labels = np.array(s_labels)\n",
    "print s_images.shape\n",
    "print s_labels.shape"
   ]
  },
  {
   "cell_type": "code",
   "execution_count": 48,
   "metadata": {
    "collapsed": false
   },
   "outputs": [
    {
     "data": {
      "image/png": "[encoded data removed]",
      "text/plain": [
       "<matplotlib.figure.Figure at 0x2b5f7ac8>"
      ]
     },
     "metadata": {},
     "output_type": "display_data"
    }
   ],
   "source": [
    "# Output first image as test\n",
    "firstImage = np.array(images[0], dtype='uint8')\n",
    "firstImage = firstImage.reshape((28, 28))\n",
    "\n",
    "plt.imshow(firstImage, cmap=\"gray\")\n",
    "plt.show()"
   ]
  },
  {
   "cell_type": "code",
   "execution_count": 54,
   "metadata": {
    "collapsed": false
   },
   "outputs": [
    {
     "name": "stdout",
     "output_type": "stream",
     "text": [
      "0\n",
      "[  1.00000000e+00   0.00000000e+00   0.00000000e+00   0.00000000e+00\n",
      "   0.00000000e+00   0.00000000e+00   0.00000000e+00   0.00000000e+00\n",
      "   0.00000000e+00   0.00000000e+00   0.00000000e+00   0.00000000e+00\n",
      "   0.00000000e+00   0.00000000e+00   0.00000000e+00   0.00000000e+00\n",
      "   0.00000000e+00   0.00000000e+00   0.00000000e+00   0.00000000e+00\n",
      "   0.00000000e+00   0.00000000e+00   0.00000000e+00   0.00000000e+00\n",
      "   0.00000000e+00   0.00000000e+00   0.00000000e+00   0.00000000e+00\n",
      "   0.00000000e+00   0.00000000e+00   0.00000000e+00   0.00000000e+00\n",
      "   0.00000000e+00   0.00000000e+00   0.00000000e+00   0.00000000e+00\n",
      "   0.00000000e+00   0.00000000e+00   0.00000000e+00   0.00000000e+00\n",
      "   0.00000000e+00   0.00000000e+00   0.00000000e+00   0.00000000e+00\n",
      "   0.00000000e+00   0.00000000e+00   0.00000000e+00   0.00000000e+00\n",
      "   0.00000000e+00   0.00000000e+00   0.00000000e+00   0.00000000e+00\n",
      "   0.00000000e+00   0.00000000e+00   0.00000000e+00   0.00000000e+00\n",
      "   0.00000000e+00   0.00000000e+00   0.00000000e+00   0.00000000e+00\n",
      "   0.00000000e+00   0.00000000e+00   0.00000000e+00   0.00000000e+00\n",
      "   0.00000000e+00   0.00000000e+00   0.00000000e+00   1.14000000e+02\n",
      "   2.53000000e+02   1.19000000e+02   0.00000000e+00   1.49000000e+02\n",
      "   2.53000000e+02   2.53000000e+02   2.53000000e+02   2.01000000e+02\n",
      "   7.60000000e+01   9.00000000e+00   0.00000000e+00   0.00000000e+00\n",
      "   0.00000000e+00   0.00000000e+00   0.00000000e+00   0.00000000e+00\n",
      "   0.00000000e+00   0.00000000e+00   0.00000000e+00   0.00000000e+00\n",
      "   0.00000000e+00   0.00000000e+00   3.00000000e+02   5.81000000e+02\n",
      "   1.15500000e+03   1.77900000e+03   3.10000000e+03   5.01100000e+03\n",
      "   7.93000000e+03   1.07280000e+04   1.29400000e+04   1.43610000e+04\n",
      "   1.35030000e+04   1.17220000e+04   9.59300000e+03   5.77100000e+03\n",
      "   3.38200000e+03   2.18200000e+03   8.39000000e+02   6.70000000e+01\n",
      "   0.00000000e+00   0.00000000e+00   0.00000000e+00   0.00000000e+00\n",
      "   0.00000000e+00   0.00000000e+00   0.00000000e+00   0.00000000e+00\n",
      "   1.63000000e+02   1.19100000e+03   3.87000000e+03   8.05300000e+03\n",
      "   1.79540000e+04   3.33570000e+04   5.20570000e+04   7.82480000e+04\n",
      "   1.03446000e+05   1.26546000e+05   1.41629000e+05   1.47044000e+05\n",
      "   1.43099000e+05   1.24258000e+05   9.72840000e+04   6.77390000e+04\n",
      "   4.19890000e+04   2.05840000e+04   7.60600000e+03   2.67300000e+03\n",
      "   1.78000000e+02   0.00000000e+00   0.00000000e+00   0.00000000e+00\n",
      "   0.00000000e+00   0.00000000e+00   0.00000000e+00   7.30000000e+01\n",
      "   1.47200000e+03   6.28400000e+03   1.67350000e+04   3.37960000e+04\n",
      "   6.28500000e+04   1.04069000e+05   1.56678000e+05   2.16122000e+05\n",
      "   2.74647000e+05   3.21886000e+05   3.58787000e+05   3.67217000e+05\n",
      "   3.52882000e+05   3.16107000e+05   2.57027000e+05   1.93338000e+05\n",
      "   1.30734000e+05   7.37310000e+04   3.22280000e+04   8.44300000e+03\n",
      "   1.40200000e+03   7.00000000e+01   0.00000000e+00   0.00000000e+00\n",
      "   0.00000000e+00   0.00000000e+00   0.00000000e+00   2.98000000e+02\n",
      "   4.26800000e+03   1.52040000e+04   3.34390000e+04   6.53640000e+04\n",
      "   1.14822000e+05   1.78976000e+05   2.44318000e+05   3.10250000e+05\n",
      "   3.62734000e+05   3.98864000e+05   4.26071000e+05   4.39040000e+05\n",
      "   4.38020000e+05   4.15817000e+05   3.62440000e+05   2.92227000e+05\n",
      "   2.14225000e+05   1.38129000e+05   6.84530000e+04   2.22240000e+04\n",
      "   3.36600000e+03   9.50000000e+01   0.00000000e+00   0.00000000e+00\n",
      "   0.00000000e+00   0.00000000e+00   2.45000000e+02   2.47000000e+02\n",
      "   6.01100000e+03   2.10470000e+04   4.64290000e+04   8.45580000e+04\n",
      "   1.35359000e+05   1.90101000e+05   2.43279000e+05   2.84418000e+05\n",
      "   3.08429000e+05   3.20479000e+05   3.27367000e+05   3.42682000e+05\n",
      "   3.63052000e+05   3.74728000e+05   3.63157000e+05   3.19769000e+05\n",
      "   2.53735000e+05   1.74191000e+05   9.31600000e+04   3.44370000e+04\n",
      "   6.23200000e+03   1.71000000e+02   0.00000000e+00   0.00000000e+00\n",
      "   0.00000000e+00   0.00000000e+00   1.84000000e+02   1.70000000e+02\n",
      "   7.46200000e+03   2.48150000e+04   4.59510000e+04   7.57930000e+04\n",
      "   1.10321000e+05   1.41262000e+05   1.70363000e+05   1.86630000e+05\n",
      "   1.88102000e+05   1.85663000e+05   1.88578000e+05   2.10487000e+05\n",
      "   2.55015000e+05   3.05419000e+05   3.25988000e+05   3.14587000e+05\n",
      "   2.59673000e+05   1.78903000e+05   9.63380000e+04   3.73420000e+04\n",
      "   6.19800000e+03   1.88000000e+02   0.00000000e+00   0.00000000e+00\n",
      "   0.00000000e+00   0.00000000e+00   2.11000000e+02   4.54000000e+02\n",
      "   5.98100000e+03   1.74600000e+04   3.18790000e+04   5.12410000e+04\n",
      "   6.99420000e+04   8.23530000e+04   9.11630000e+04   9.67970000e+04\n",
      "   9.75410000e+04   1.00360000e+05   1.17821000e+05   1.65347000e+05\n",
      "   2.36717000e+05   3.00406000e+05   3.30611000e+05   3.08061000e+05\n",
      "   2.40149000e+05   1.57620000e+05   7.94520000e+04   2.95290000e+04\n",
      "   5.30200000e+03   5.00000000e+01   8.00000000e+00   0.00000000e+00\n",
      "   0.00000000e+00   0.00000000e+00   1.05000000e+02   5.11000000e+02\n",
      "   4.21200000e+03   9.85000000e+03   1.72630000e+04   2.63980000e+04\n",
      "   3.46840000e+04   3.95300000e+04   4.40740000e+04   5.25370000e+04\n",
      "   6.91350000e+04   1.00275000e+05   1.55182000e+05   2.33307000e+05\n",
      "   3.09738000e+05   3.56326000e+05   3.52927000e+05   2.89488000e+05\n",
      "   1.97329000e+05   1.14061000e+05   5.12800000e+04   1.71360000e+04\n",
      "   3.31900000e+03   5.60000000e+01   5.50000000e+01   0.00000000e+00\n",
      "   0.00000000e+00   0.00000000e+00   7.70000000e+01   4.49000000e+02\n",
      "   2.00900000e+03   5.30800000e+03   9.21000000e+03   1.27870000e+04\n",
      "   1.70800000e+04   2.44230000e+04   4.21380000e+04   7.75550000e+04\n",
      "   1.30379000e+05   2.03363000e+05   2.83263000e+05   3.57421000e+05\n",
      "   4.05091000e+05   4.04258000e+05   3.49051000e+05   2.47824000e+05\n",
      "   1.49036000e+05   7.40410000e+04   2.67580000e+04   7.32100000e+03\n",
      "   1.80100000e+03   4.00000000e+00   5.00000000e+00   0.00000000e+00\n",
      "   0.00000000e+00   0.00000000e+00   1.30000000e+01   4.60000000e+01\n",
      "   9.31000000e+02   3.28800000e+03   5.50200000e+03   8.37800000e+03\n",
      "   1.50030000e+04   3.59750000e+04   8.49490000e+04   1.58085000e+05\n",
      "   2.50072000e+05   3.39717000e+05   4.10157000e+05   4.53242000e+05\n",
      "   4.56778000e+05   4.18278000e+05   3.33707000e+05   2.21724000e+05\n",
      "   1.24957000e+05   5.59280000e+04   1.93600000e+04   5.50700000e+03\n",
      "   9.92000000e+02   1.48000000e+02   7.70000000e+01   0.00000000e+00\n",
      "   0.00000000e+00   0.00000000e+00   0.00000000e+00   0.00000000e+00\n",
      "   3.96000000e+02   2.10900000e+03   3.78700000e+03   8.14600000e+03\n",
      "   2.20370000e+04   5.97190000e+04   1.31759000e+05   2.30029000e+05\n",
      "   3.32546000e+05   4.11481000e+05   4.50230000e+05   4.60178000e+05\n",
      "   4.48421000e+05   4.12488000e+05   3.41218000e+05   2.47450000e+05\n",
      "   1.50367000e+05   7.37260000e+04   2.83140000e+04   8.44900000e+03\n",
      "   2.05100000e+03   4.06000000e+02   0.00000000e+00   0.00000000e+00\n",
      "   0.00000000e+00   0.00000000e+00   9.90000000e+01   6.90000000e+01\n",
      "   1.81000000e+02   1.51700000e+03   3.97300000e+03   9.48800000e+03\n",
      "   2.74490000e+04   6.99030000e+04   1.44451000e+05   2.31760000e+05\n",
      "   3.09924000e+05   3.53893000e+05   3.70225000e+05   3.75700000e+05\n",
      "   3.74810000e+05   3.71409000e+05   3.51555000e+05   2.94684000e+05\n",
      "   2.05302000e+05   1.15746000e+05   5.31320000e+04   1.74310000e+04\n",
      "   4.30300000e+03   5.85000000e+02   0.00000000e+00   0.00000000e+00\n",
      "   0.00000000e+00   0.00000000e+00   2.26000000e+02   2.82000000e+02\n",
      "   4.94000000e+02   3.43600000e+03   7.07000000e+03   1.12240000e+04\n",
      "   2.55900000e+04   5.42540000e+04   1.06444000e+05   1.62866000e+05\n",
      "   2.06854000e+05   2.22885000e+05   2.24983000e+05   2.30247000e+05\n",
      "   2.51655000e+05   2.91710000e+05   3.34089000e+05   3.27781000e+05\n",
      "   2.56825000e+05   1.60739000e+05   8.22490000e+04   3.36490000e+04\n",
      "   8.20700000e+03   1.18800000e+03   0.00000000e+00   1.17000000e+02\n",
      "   0.00000000e+00   0.00000000e+00   1.99000000e+02   1.17700000e+03\n",
      "   3.80300000e+03   8.86600000e+03   1.28860000e+04   1.57650000e+04\n",
      "   2.31290000e+04   3.65160000e+04   5.84510000e+04   7.83880000e+04\n",
      "   9.21810000e+04   9.68880000e+04   1.00849000e+05   1.15102000e+05\n",
      "   1.49453000e+05   2.17858000e+05   3.02771000e+05   3.38433000e+05\n",
      "   2.87684000e+05   1.92325000e+05   1.08372000e+05   4.60590000e+04\n",
      "   1.35210000e+04   1.94400000e+03   0.00000000e+00   0.00000000e+00\n",
      "   0.00000000e+00   0.00000000e+00   1.13000000e+02   2.28100000e+03\n",
      "   9.95700000e+03   1.98930000e+04   2.68030000e+04   2.77610000e+04\n",
      "   3.06830000e+04   3.28720000e+04   3.34430000e+04   3.47690000e+04\n",
      "   3.56950000e+04   3.71830000e+04   4.34010000e+04   6.03980000e+04\n",
      "   1.06301000e+05   1.85507000e+05   2.83944000e+05   3.37010000e+05\n",
      "   2.97964000e+05   2.02911000e+05   1.22570000e+05   5.72470000e+04\n",
      "   1.74870000e+04   1.94700000e+03   0.00000000e+00   0.00000000e+00\n",
      "   0.00000000e+00   0.00000000e+00   1.80000000e+01   4.15500000e+03\n",
      "   1.96360000e+04   3.96170000e+04   5.21810000e+04   5.74530000e+04\n",
      "   5.87970000e+04   5.19110000e+04   4.07490000e+04   3.21340000e+04\n",
      "   2.72610000e+04   2.60490000e+04   3.39720000e+04   5.83700000e+04\n",
      "   1.15106000e+05   2.03826000e+05   2.94539000e+05   3.35163000e+05\n",
      "   2.95292000e+05   2.03231000e+05   1.25529000e+05   6.15510000e+04\n",
      "   1.72060000e+04   1.56500000e+03   0.00000000e+00   0.00000000e+00\n",
      "   0.00000000e+00   0.00000000e+00   0.00000000e+00   6.30600000e+03\n",
      "   2.91930000e+04   6.16630000e+04   9.04990000e+04   1.05864000e+05\n",
      "   1.08372000e+05   1.00202000e+05   8.21360000e+04   6.57780000e+04\n",
      "   5.41880000e+04   5.38970000e+04   7.09550000e+04   1.09539000e+05\n",
      "   1.76788000e+05   2.63942000e+05   3.29980000e+05   3.33927000e+05\n",
      "   2.76380000e+05   1.92681000e+05   1.14675000e+05   5.38100000e+04\n",
      "   1.26030000e+04   9.86000000e+02   2.10000000e+01   0.00000000e+00\n",
      "   0.00000000e+00   0.00000000e+00   3.90000000e+01   7.48000000e+03\n",
      "   3.45450000e+04   7.61090000e+04   1.20991000e+05   1.56720000e+05\n",
      "   1.75364000e+05   1.80306000e+05   1.64959000e+05   1.47106000e+05\n",
      "   1.35103000e+05   1.41235000e+05   1.69369000e+05   2.18898000e+05\n",
      "   2.86864000e+05   3.43433000e+05   3.57225000e+05   3.21092000e+05\n",
      "   2.43344000e+05   1.59736000e+05   8.84150000e+04   3.53930000e+04\n",
      "   7.88000000e+03   3.47000000e+02   2.10000000e+01   0.00000000e+00\n",
      "   0.00000000e+00   0.00000000e+00   1.09000000e+02   5.09000000e+03\n",
      "   2.76010000e+04   6.95940000e+04   1.26151000e+05   1.88262000e+05\n",
      "   2.37411000e+05   2.67651000e+05   2.77474000e+05   2.77968000e+05\n",
      "   2.78713000e+05   2.89274000e+05   3.17774000e+05   3.56036000e+05\n",
      "   3.85629000e+05   3.86445000e+05   3.43200000e+05   2.69227000e+05\n",
      "   1.86524000e+05   1.08639000e+05   5.27540000e+04   1.80580000e+04\n",
      "   3.23900000e+03   0.00000000e+00   0.00000000e+00   0.00000000e+00\n",
      "   0.00000000e+00   0.00000000e+00   0.00000000e+00   2.80900000e+03\n",
      "   1.60370000e+04   4.56530000e+04   9.52150000e+04   1.67736000e+05\n",
      "   2.41435000e+05   3.04935000e+05   3.52512000e+05   3.83431000e+05\n",
      "   4.05669000e+05   4.18760000e+05   4.24592000e+05   4.20705000e+05\n",
      "   3.93905000e+05   3.37238000e+05   2.59689000e+05   1.78642000e+05\n",
      "   1.07407000e+05   5.66210000e+04   2.40430000e+04   7.52700000e+03\n",
      "   1.01200000e+03   0.00000000e+00   0.00000000e+00   5.00000000e+00\n",
      "   0.00000000e+00   0.00000000e+00   0.00000000e+00   8.58000000e+02\n",
      "   6.37600000e+03   2.26410000e+04   4.98010000e+04   1.00113000e+05\n",
      "   1.63026000e+05   2.29698000e+05   2.96780000e+05   3.49442000e+05\n",
      "   3.78769000e+05   3.87445000e+05   3.74054000e+05   3.31564000e+05\n",
      "   2.70819000e+05   1.99448000e+05   1.35136000e+05   8.24320000e+04\n",
      "   4.54610000e+04   2.01820000e+04   7.31800000e+03   1.85900000e+03\n",
      "   1.71000000e+02   2.32000000e+02   1.20000000e+01   8.10000000e+01\n",
      "   0.00000000e+00   0.00000000e+00   0.00000000e+00   5.30000000e+01\n",
      "   1.71000000e+03   7.52100000e+03   1.74090000e+04   3.53450000e+04\n",
      "   6.08860000e+04   8.92310000e+04   1.19023000e+05   1.43658000e+05\n",
      "   1.61735000e+05   1.62428000e+05   1.53110000e+05   1.25814000e+05\n",
      "   9.39400000e+04   6.48430000e+04   3.90310000e+04   2.19690000e+04\n",
      "   1.07550000e+04   4.74700000e+03   1.82300000e+03   3.89000000e+02\n",
      "   5.40000000e+01   0.00000000e+00   0.00000000e+00   0.00000000e+00\n",
      "   0.00000000e+00   0.00000000e+00   0.00000000e+00   0.00000000e+00\n",
      "   3.80000000e+01   8.06000000e+02   2.50100000e+03   5.61100000e+03\n",
      "   8.59900000e+03   1.18880000e+04   1.39560000e+04   1.56470000e+04\n",
      "   1.74790000e+04   1.80240000e+04   1.82340000e+04   1.50570000e+04\n",
      "   1.20890000e+04   8.37000000e+03   4.71500000e+03   3.33600000e+03\n",
      "   2.41800000e+03   1.15500000e+03   3.31000000e+02   1.73000000e+02\n",
      "   0.00000000e+00   0.00000000e+00   0.00000000e+00   0.00000000e+00\n",
      "   0.00000000e+00   0.00000000e+00   0.00000000e+00   0.00000000e+00\n",
      "   0.00000000e+00   0.00000000e+00   6.40000000e+01   1.28000000e+02\n",
      "   1.28000000e+02   1.28000000e+02   1.28000000e+02   3.56000000e+02\n",
      "   5.61000000e+02   8.03000000e+02   7.78000000e+02   7.39000000e+02\n",
      "   6.81000000e+02   4.66000000e+02   2.15000000e+02   2.24000000e+02\n",
      "   2.53000000e+02   2.43000000e+02   5.40000000e+01   0.00000000e+00\n",
      "   0.00000000e+00   0.00000000e+00   0.00000000e+00   0.00000000e+00\n",
      "   0.00000000e+00   0.00000000e+00   0.00000000e+00   0.00000000e+00\n",
      "   0.00000000e+00   0.00000000e+00   0.00000000e+00   0.00000000e+00\n",
      "   0.00000000e+00   0.00000000e+00   0.00000000e+00   0.00000000e+00\n",
      "   0.00000000e+00   0.00000000e+00   0.00000000e+00   0.00000000e+00\n",
      "   0.00000000e+00   0.00000000e+00   0.00000000e+00   0.00000000e+00\n",
      "   0.00000000e+00   0.00000000e+00   0.00000000e+00   0.00000000e+00\n",
      "   0.00000000e+00   0.00000000e+00   0.00000000e+00   0.00000000e+00\n",
      "   0.00000000e+00]\n"
     ]
    }
   ],
   "source": [
    "# Logistical Regression\n",
    "import logistical_regression as lg\n",
    "import gradient_descent as gd\n",
    "\n",
    "logreg = lg.LogReg(s_images.shape[1])\n",
    "w = gd.batch_gradient_descent(s_images, s_labels, logreg, 1)"
   ]
  },
  {
   "cell_type": "code",
   "execution_count": null,
   "metadata": {
    "collapsed": false
   },
   "outputs": [],
   "source": []
  },
  {
   "cell_type": "code",
   "execution_count": null,
   "metadata": {
    "collapsed": false
   },
   "outputs": [],
   "source": []
  },
  {
   "cell_type": "code",
   "execution_count": null,
   "metadata": {
    "collapsed": true
   },
   "outputs": [],
   "source": []
  }
 ],
 "metadata": {
  "kernelspec": {
   "display_name": "Python 2",
   "language": "python",
   "name": "python2"
  },
  "language_info": {
   "codemirror_mode": {
    "name": "ipython",
    "version": 2
   },
   "file_extension": ".py",
   "mimetype": "text/x-python",
   "name": "python",
   "nbconvert_exporter": "python",
   "pygments_lexer": "ipython2",
   "version": "2.7.11"
  }
 },
 "nbformat": 4,
 "nbformat_minor": 0
}
